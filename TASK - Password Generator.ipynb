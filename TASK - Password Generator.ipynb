{
 "cells": [
  {
   "cell_type": "markdown",
   "id": "9227bf75",
   "metadata": {},
   "source": [
    "# TASK - Password Generator"
   ]
  },
  {
   "cell_type": "code",
   "execution_count": null,
   "id": "aa9410d5",
   "metadata": {},
   "outputs": [],
   "source": [
    "A password generator is a useful tool that generates strong and random passwords for\n",
    "users. This project aims to create a password generator application using Python,\n",
    "allowing users to specify the length and complexity of the password.\n",
    "User Input: Prompt the user to specify the desired length of the password.\n",
    "Generate Password: Use a combination of random characters to generate a password of\n",
    "the specified length.\n",
    "Display the Password: Print the generated password on the screen."
   ]
  },
  {
   "cell_type": "code",
   "execution_count": 1,
   "id": "a96365cf",
   "metadata": {},
   "outputs": [
    {
     "name": "stdout",
     "output_type": "stream",
     "text": [
      "Authentication\n",
      "Enter how many letter you want ? 5\n",
      "Enter how many number you want ? 3\n",
      "Enter how many special character you want ? 1\n",
      "your password is )IpB9554Ihk@\n"
     ]
    }
   ],
   "source": [
    "import random\n",
    "password=[]\n",
    "alphabet=['a', 'b', 'c', 'd', 'e', 'f', 'g', 'h', 'i', 'j', 'k', 'l', \n",
    "          'm', 'n', 'o','p', 'q', 'r', 's', 't', 'u', 'v', 'w', 'x', 'y', 'z',\n",
    "          \"A\", \"B\", \"C\", \"D\", \"E\", \"F\", \"G\", \"H\", \"I\", \"J\", \"K\", \"L\", \"M\", \"N\",\n",
    "          \"O\", \"P\", \"Q\", \"R\", \"S\", \"T\", \"U\", \"V\", \"W\", \"X\", \"Y\", \"Z\"]\n",
    "numbers=[\"0\", \"1\", \"2\", \"3\", \"4\", \"5\", \"6\", \"7\", \"8\", \"9\"]\n",
    "character=[\"!\" , \"@\" , \"#\" , \"$\" , \"%\" , \"^\" , \"&\" , \"*\" , \"(\" , \")\" ]\n",
    "\n",
    "print('Authentication')\n",
    "alpha_req=int(input('Enter how many letter you want ? '))\n",
    "num_req=int(input('Enter how many number you want ? '))\n",
    "char_req=int(input('Enter how many special character you want ? '))\n",
    "\n",
    "for i in range(0,alpha_req+1):\n",
    "    alpha=random.choice(alphabet)\n",
    "    password.append(alpha)\n",
    "for i in range(0,num_req+1):\n",
    "    num=random.choice(numbers)\n",
    "    password.append(num)\n",
    "for i in range(0,char_req+1):\n",
    "    char=random.choice(character)\n",
    "    password.append(char)\n",
    "\n",
    "random.shuffle(password)\n",
    "pswd=''.join(password)\n",
    "print(f'your password is {pswd}')\n",
    "\n",
    "    "
   ]
  },
  {
   "cell_type": "code",
   "execution_count": null,
   "id": "83c82484",
   "metadata": {},
   "outputs": [],
   "source": []
  },
  {
   "cell_type": "code",
   "execution_count": null,
   "id": "0820dd58",
   "metadata": {},
   "outputs": [],
   "source": []
  }
 ],
 "metadata": {
  "kernelspec": {
   "display_name": "Python 3 (ipykernel)",
   "language": "python",
   "name": "python3"
  },
  "language_info": {
   "codemirror_mode": {
    "name": "ipython",
    "version": 3
   },
   "file_extension": ".py",
   "mimetype": "text/x-python",
   "name": "python",
   "nbconvert_exporter": "python",
   "pygments_lexer": "ipython3",
   "version": "3.9.12"
  }
 },
 "nbformat": 4,
 "nbformat_minor": 5
}
